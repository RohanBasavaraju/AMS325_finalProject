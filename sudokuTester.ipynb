{
  "nbformat": 4,
  "nbformat_minor": 0,
  "metadata": {
    "colab": {
      "name": "sudokuTester.ipynb",
      "provenance": [],
      "collapsed_sections": []
    },
    "kernelspec": {
      "name": "python3",
      "display_name": "Python 3"
    },
    "language_info": {
      "name": "python"
    }
  },
  "cells": [
    {
      "cell_type": "code",
      "execution_count": 33,
      "metadata": {
        "colab": {
          "base_uri": "https://localhost:8080/"
        },
        "id": "hLe4dwzlYrxu",
        "outputId": "04e94554-7527-483f-d824-273db479f3aa"
      },
      "outputs": [
        {
          "output_type": "stream",
          "name": "stdout",
          "text": [
            "[[0, 0, 0, 0, 0, 0, 0, 0, 0], [0, 0, 0, 0, 0, 0, 0, 0, 0], [0, 0, 0, 0, 0, 0, 0, 0, 0], [0, 0, 0, 0, 0, 0, 0, 0, 0], [0, 0, 0, 0, 0, 0, 0, 0, 0], [0, 0, 0, 0, 0, 0, 0, 0, 0], [0, 0, 0, 0, 0, 0, 0, 0, 0], [0, 0, 0, 0, 0, 0, 0, 0, 0], [0, 0, 0, 0, 0, 0, 0, 0, 0]]\n",
            "[[0, 0, 0, 0, 0, 0, 0, 0, 0], [0, 0, 0, 0, 0, 0, 0, 0, 0], [0, 0, 0, 0, 0, 0, 0, 0, 0], [0, 0, 0, 0, 0, 0, 0, 0, 0], [0, 0, 0, 0, 0, 0, 0, 0, 0], [0, 0, 0, 0, 0, 0, 0, 0, 0], [0, 0, 0, 0, 0, 0, 0, 0, 0], [0, 0, 0, 0, 0, 0, 0, 0, 0], [0, 0, 0, 0, 0, 0, 0, 0, 0]]\n",
            "[[0, 0, 0, 0], [0, 0, 0, 0], [0, 0, 0, 0], [0, 0, 0, 0]]\n"
          ]
        }
      ],
      "source": [
        "# Write code for Sudoku Tester project in this Python notebook file\n",
        "\n",
        "def createEmptyBoard(version=\"normal\"): \n",
        "  '''\n",
        "  version: the specific type of Sudoku to play [“normal”/“japanese”/“letter”]\n",
        "  \n",
        "  board: a 2D array filled with zero values\n",
        "  '''\n",
        "  board = []\n",
        "  if version =='letter' or version=='normal':\n",
        "    for r in range(9):\n",
        "      board.append([])\n",
        "      for c in range(9):\n",
        "        board[r].append(0)\n",
        "  elif version=='japanese':\n",
        "    for r in range(4):\n",
        "      board.append([])\n",
        "      for c in range(4):\n",
        "        board[r].append(0)\n",
        "  return board\n",
        "\n",
        "print(createEmptyBoard())\n",
        "print(createEmptyBoard(\"letter\"))\n",
        "print(createEmptyBoard(\"japanese\"))"
      ]
    },
    {
      "cell_type": "code",
      "source": [
        "def checkElement(board, element, row, column, version=\"normal\"):\n",
        "  '''\n",
        "  board: a 2D array semi-filled with valid Sudoku values\n",
        "  element: the value to be tested\n",
        "  row: the horizontal index of the tested value's position\n",
        "  column: the vertical index of the tested value's positon  \n",
        "  version: the specific type of Sudoku to play [“normal”/“japanese”/“letter”]\n",
        "\n",
        "  valid: a boolean indicating if the element can be placed in this position\n",
        "  '''\n",
        "  for r in range(len(board)):\n",
        "    if board[r][column] == element:\n",
        "      return False\n",
        "  for c in range(len(board[0])):\n",
        "    if board[row][c] == element:\n",
        "      return False\n",
        "  if version==\"normal\" or version==\"letter\":\n",
        "    for r in range(3):\n",
        "      for c in range(3):\n",
        "        if board[r][c] == element and row < 3 and column < 3:\n",
        "          return False\n",
        "    for r in range(3):\n",
        "      for c in range(3,6):\n",
        "        if board[r][c] == element and row < 3 and (column < 6 and column >= 3):\n",
        "          return False\n",
        "    for r in range(3):\n",
        "      for c in range(6,9):\n",
        "        if board[r][c] == element and row < 3 and (column >= 6 and column < 9):\n",
        "          return False\n",
        "    for r in range(3,6):\n",
        "      for c in range(3):\n",
        "        if board[r][c] == element and (row >= 3 and row < 6) and column < 3:\n",
        "          return False\n",
        "    for r in range(3,6):\n",
        "      for c in range(3,6):\n",
        "        if board[r][c] == element and (row >= 3 and row < 6) and (column >= 3 and column < 6):\n",
        "          return False\n",
        "    for r in range(3,6):\n",
        "      for c in range(6,9):\n",
        "        if board[r][c] == element and (row >= 3 and row < 6) and (column >= 6 and column < 9):\n",
        "          return False\n",
        "    for r in range(6,9):\n",
        "      for c in range(3):\n",
        "        if board[r][c] == element and (row >= 6 and row < 9) and column < 3:\n",
        "          return False\n",
        "    for r in range(6,9):\n",
        "      for c in range(3,6):\n",
        "        if board[r][c] == element and (row >= 6 and row < 9) and (column >= 3 and column < 6):\n",
        "          return False\n",
        "    for r in range(6,9):\n",
        "      for c in range(6,9):\n",
        "        if board[r][c] == element and (row >= 6 and row < 9) and (column >= 6 and column < 9):\n",
        "          return False\n",
        "  elif version==\"japanese\":\n",
        "    for r in range(2):\n",
        "      for c in range(2):\n",
        "        if board[r][c] == element and row < 2 and column < 2:\n",
        "          return False\n",
        "    for r in range(2):\n",
        "      for c in range(2,4):\n",
        "        if board[r][c] == element and row < 2 and (column >= 2 and column < 4):\n",
        "          return False\n",
        "    for r in range(2,4):\n",
        "      for c in range(2):\n",
        "        if board[r][c] == element and (row >= 2 and row < 4) and column < 2:\n",
        "          return False\n",
        "    for r in range(2,4):\n",
        "      for c in range(2,4):\n",
        "        if board[r][c] == element and (row >= 2 and row < 4) and (column >= 2 and column < 4):\n",
        "          return False\n",
        "  return True\n",
        "\n",
        "# Test Cases\n",
        "\n",
        "# Normal Sudoku\n",
        "b1 = [[8,1,6,5,7,9,2,4,3],[3,5,7,6,2,4,9,8,1],[4,9,2,1,3,8,7,6,5],[2,4,3,0,1,6,5,7,9],[9,8,1,3,5,7,6,2,4],[7,6,5,4,9,2,1,3,8],[5,7,9,2,4,3,8,1,6],[6,2,4,9,8,1,3,5,7],[1,3,8,7,6,5,4,9,2]]\n",
        "\n",
        "print(checkElement(b1, 8, 3, 3)) # True\n",
        "print(checkElement(b1, 2, 3, 3)) # False\n",
        "print(b1[3][3]) # 0\n",
        "\n",
        "# Letter Sudoku\n",
        "conversion = {1:'A',2:'B',3:'C',4:'D',5:'E',6:'F',7:'G',8:'H',9:'I',0:0}\n",
        "b2 = b1[::]\n",
        "for r in range(9):\n",
        "  for c in range(9):\n",
        "    b2[r][c] = conversion[b2[r][c]]\n",
        "\n",
        "print(checkElement(b2, 'H', 3, 3, version='letter')) # True\n",
        "print(checkElement(b2, 'G', 3, 3, version='letter')) # False\n",
        "print(b2[3][3]) # 0\n",
        "\n",
        "# Japanese Sudoku\n",
        "b3 = [[1,4,2,3],[3,2,4,1],[4,1,3,2],[2,3,1,0]]\n",
        "\n",
        "print(checkElement(b3, 4, 3, 3, version='japanese')) # True\n",
        "print(checkElement(b3, 3, 3, 3, version='japanese')) # False\n",
        "print(b3[3][3]) # 0"
      ],
      "metadata": {
        "id": "QfoGaaBQ-e8l",
        "colab": {
          "base_uri": "https://localhost:8080/"
        },
        "outputId": "d55872d5-32cb-4d2f-aa46-9d1cff9fff3b"
      },
      "execution_count": 34,
      "outputs": [
        {
          "output_type": "stream",
          "name": "stdout",
          "text": [
            "True\n",
            "False\n",
            "0\n",
            "True\n",
            "False\n",
            "0\n",
            "True\n",
            "False\n",
            "0\n"
          ]
        }
      ]
    },
    {
      "cell_type": "code",
      "source": [
        "def possibleElements(board, row, column, version=\"normal\"):\n",
        "  '''\n",
        "  board: a 2D array semi-filled with valid Sudoku values\n",
        "  row: the horizontal index of the tested value's position\n",
        "  column: the vertical index of the tested value's positon  \n",
        "  version: the specific type of Sudoku to play [“normal”/“japanese”/“letter”]\n",
        "\n",
        "  validVals: a list of acceptable values that can be used at this position\n",
        "  '''\n",
        "  validVals = []\n",
        "  if version==\"normal\":\n",
        "    for v in range(1,10):\n",
        "      if checkElement(board, v, row, column, version):\n",
        "        validVals.append(v)\n",
        "  elif version==\"japanese\":\n",
        "    for v in range(1,5):\n",
        "      if checkElement(board, v, row, column, version):\n",
        "        validVals.append(v)\n",
        "  elif version==\"letter\":\n",
        "    for v in ['A','B','C','D','E','F','G','H','I']:\n",
        "      if checkElement(board, v, row, column, version):\n",
        "        validVals.append(v)\n",
        "  return validVals\n",
        "\n",
        "# Test Cases\n",
        "\n",
        "# Normal Sudoku\n",
        "b1 = [[8,1,6,5,7,9,2,4,3],[3,5,7,6,2,4,9,8,1],[4,9,2,1,3,8,7,6,5],[2,4,3,0,1,6,5,7,9],[9,8,1,3,5,7,6,2,4],[7,6,5,4,9,2,1,3,8],[5,7,9,2,4,3,8,1,6],[6,2,4,9,8,1,3,5,7],[1,3,8,7,6,5,4,9,2]]\n",
        "\n",
        "print(possibleElements(b1, 3, 3)) # [8]\n",
        "print(b1[3][3]) # 0\n",
        "\n",
        "# Letter Sudoku\n",
        "conversion = {1:'A',2:'B',3:'C',4:'D',5:'E',6:'F',7:'G',8:'H',9:'I',0:0}\n",
        "b2 = b1[::]\n",
        "for r in range(9):\n",
        "  for c in range(9):\n",
        "    b2[r][c] = conversion[b2[r][c]]\n",
        "\n",
        "print(possibleElements(b2, 3, 3, version='letter')) # ['H']\n",
        "print(b2[3][3]) # 0\n",
        "\n",
        "# Japanese Sudoku\n",
        "b3 = [[1,4,2,3],[3,2,4,1],[4,1,3,2],[2,3,1,0]]\n",
        "\n",
        "print(possibleElements(b3, 3, 3, version='japanese')) # [4]\n",
        "print(b3[3][3]) # 0"
      ],
      "metadata": {
        "id": "vZQpjoRp_Q2T",
        "colab": {
          "base_uri": "https://localhost:8080/"
        },
        "outputId": "37ba4bab-468a-4387-9f5d-eb52a8044d04"
      },
      "execution_count": 35,
      "outputs": [
        {
          "output_type": "stream",
          "name": "stdout",
          "text": [
            "[8]\n",
            "0\n",
            "['H']\n",
            "0\n",
            "[4]\n",
            "0\n"
          ]
        }
      ]
    },
    {
      "cell_type": "code",
      "source": [
        "def addElement(board, element, row, column):\n",
        "  '''\n",
        "  board: a 2D array semi-filled with valid Sudoku values\n",
        "  element: the value to be added\n",
        "  row: the horizontal index of the tested value's position\n",
        "  column: the vertical index of the tested value's positon  \n",
        "\n",
        "  board: a 2D array semi-filled with the element Sudoku value\n",
        "  '''\n",
        "  board[row][column] = element\n",
        "  return board\n",
        "\n",
        "# Test Cases\n",
        "\n",
        "# Normal Sudoku\n",
        "b1 = [[8,1,6,5,7,9,2,4,3],[3,5,7,6,2,4,9,8,1],[4,9,2,1,3,8,7,6,5],[2,4,3,0,1,6,5,7,9],[9,8,1,3,5,7,6,2,4],[7,6,5,4,9,2,1,3,8],[5,7,9,2,4,3,8,1,6],[6,2,4,9,8,1,3,5,7],[1,3,8,7,6,5,4,9,2]]\n",
        "\n",
        "print(addElement(b1, 8, 3, 3))\n",
        "print(b1[3][3]) # 8\n",
        "\n",
        "# Letter Sudoku\n",
        "conversion = {1:'A',2:'B',3:'C',4:'D',5:'E',6:'F',7:'G',8:'H',9:'I',0:0}\n",
        "b2 = b1[::]\n",
        "for r in range(9):\n",
        "  for c in range(9):\n",
        "    b2[r][c] = conversion[b2[r][c]]\n",
        "\n",
        "print(addElement(b2, 'H', 3, 3))\n",
        "print(b2[3][3]) # 'H'\n",
        "\n",
        "# Japanese Sudoku\n",
        "b3 = [[1,4,2,3],[3,2,4,1],[4,1,3,2],[2,3,1,0]]\n",
        "\n",
        "print(addElement(b3, 4, 3, 3))\n",
        "print(b3[3][3]) # 4"
      ],
      "metadata": {
        "id": "kN2USwk__XB9",
        "colab": {
          "base_uri": "https://localhost:8080/"
        },
        "outputId": "1ec39061-4038-420b-a8da-d95686becb2d"
      },
      "execution_count": 36,
      "outputs": [
        {
          "output_type": "stream",
          "name": "stdout",
          "text": [
            "[[8, 1, 6, 5, 7, 9, 2, 4, 3], [3, 5, 7, 6, 2, 4, 9, 8, 1], [4, 9, 2, 1, 3, 8, 7, 6, 5], [2, 4, 3, 8, 1, 6, 5, 7, 9], [9, 8, 1, 3, 5, 7, 6, 2, 4], [7, 6, 5, 4, 9, 2, 1, 3, 8], [5, 7, 9, 2, 4, 3, 8, 1, 6], [6, 2, 4, 9, 8, 1, 3, 5, 7], [1, 3, 8, 7, 6, 5, 4, 9, 2]]\n",
            "8\n",
            "[['H', 'A', 'F', 'E', 'G', 'I', 'B', 'D', 'C'], ['C', 'E', 'G', 'F', 'B', 'D', 'I', 'H', 'A'], ['D', 'I', 'B', 'A', 'C', 'H', 'G', 'F', 'E'], ['B', 'D', 'C', 'H', 'A', 'F', 'E', 'G', 'I'], ['I', 'H', 'A', 'C', 'E', 'G', 'F', 'B', 'D'], ['G', 'F', 'E', 'D', 'I', 'B', 'A', 'C', 'H'], ['E', 'G', 'I', 'B', 'D', 'C', 'H', 'A', 'F'], ['F', 'B', 'D', 'I', 'H', 'A', 'C', 'E', 'G'], ['A', 'C', 'H', 'G', 'F', 'E', 'D', 'I', 'B']]\n",
            "H\n",
            "[[1, 4, 2, 3], [3, 2, 4, 1], [4, 1, 3, 2], [2, 3, 1, 4]]\n",
            "4\n"
          ]
        }
      ]
    },
    {
      "cell_type": "code",
      "source": [
        "def removeElement(board, row, column):\n",
        "  '''\n",
        "  board: a 2D array semi-filled with valid Sudoku values\n",
        "  row: the horizontal index of the tested value's position\n",
        "  column: the vertical index of the tested value's positon  \n",
        "\n",
        "  board: a 2D array semi-filled with one more empty space than before\n",
        "  '''\n",
        "  board[row][column] = 0\n",
        "  return board\n",
        "\n",
        "# Test Cases\n",
        "\n",
        "# Normal Sudoku\n",
        "b1 = [[8,1,6,5,7,9,2,4,3],[3,5,7,6,2,4,9,8,1],[4,9,2,1,3,8,7,6,5],[2,4,3,8,1,6,5,7,9],[9,8,1,3,5,7,6,2,4],[7,6,5,4,9,2,1,3,8],[5,7,9,2,4,3,8,1,6],[6,2,4,9,8,1,3,5,7],[1,3,8,7,6,5,4,9,2]]\n",
        "\n",
        "print(removeElement(b1, 3, 3))\n",
        "print(b1[3][3]) # 0\n",
        "\n",
        "# Letter Sudoku\n",
        "conversion = {1:'A',2:'B',3:'C',4:'D',5:'E',6:'F',7:'G',8:'H',9:'I',0:0}\n",
        "b2 = b1[::]\n",
        "for r in range(9):\n",
        "  for c in range(9):\n",
        "    b2[r][c] = conversion[b2[r][c]]\n",
        "\n",
        "print(removeElement(b2, 3, 3))\n",
        "print(b2[3][3]) # 0\n",
        "\n",
        "# Japanese Sudoku\n",
        "b3 = [[1,4,2,3],[3,2,4,1],[4,1,3,2],[2,3,1,4]]\n",
        "\n",
        "print(removeElement(b3, 3, 3))\n",
        "print(b3[3][3]) # 0"
      ],
      "metadata": {
        "id": "l0Fqw9Hf_dtJ",
        "colab": {
          "base_uri": "https://localhost:8080/"
        },
        "outputId": "8d4f49bd-aa69-44c2-b533-0c1673fb436b"
      },
      "execution_count": 37,
      "outputs": [
        {
          "output_type": "stream",
          "name": "stdout",
          "text": [
            "[[8, 1, 6, 5, 7, 9, 2, 4, 3], [3, 5, 7, 6, 2, 4, 9, 8, 1], [4, 9, 2, 1, 3, 8, 7, 6, 5], [2, 4, 3, 0, 1, 6, 5, 7, 9], [9, 8, 1, 3, 5, 7, 6, 2, 4], [7, 6, 5, 4, 9, 2, 1, 3, 8], [5, 7, 9, 2, 4, 3, 8, 1, 6], [6, 2, 4, 9, 8, 1, 3, 5, 7], [1, 3, 8, 7, 6, 5, 4, 9, 2]]\n",
            "0\n",
            "[['H', 'A', 'F', 'E', 'G', 'I', 'B', 'D', 'C'], ['C', 'E', 'G', 'F', 'B', 'D', 'I', 'H', 'A'], ['D', 'I', 'B', 'A', 'C', 'H', 'G', 'F', 'E'], ['B', 'D', 'C', 0, 'A', 'F', 'E', 'G', 'I'], ['I', 'H', 'A', 'C', 'E', 'G', 'F', 'B', 'D'], ['G', 'F', 'E', 'D', 'I', 'B', 'A', 'C', 'H'], ['E', 'G', 'I', 'B', 'D', 'C', 'H', 'A', 'F'], ['F', 'B', 'D', 'I', 'H', 'A', 'C', 'E', 'G'], ['A', 'C', 'H', 'G', 'F', 'E', 'D', 'I', 'B']]\n",
            "0\n",
            "[[1, 4, 2, 3], [3, 2, 4, 1], [4, 1, 3, 2], [2, 3, 1, 0]]\n",
            "0\n"
          ]
        }
      ]
    },
    {
      "cell_type": "code",
      "source": [
        "def testBoard(board, version=\"normal\"):\n",
        "  '''\n",
        "  board: a 2D array filled with potentially valid Sudoku values\n",
        "  version: the specific type of Sudoku to play [“normal”/“japanese”/“letter”]\n",
        "\n",
        "  (boolean): return if the provided Sudoku board is a valid solution\n",
        "  '''\n",
        "  rangeVals = set()\n",
        "  if version == \"normal\":\n",
        "    rangeVals = set([1,2,3,4,5,6,7,8,9])\n",
        "  elif version == \"letter\":\n",
        "    rangeVals = set(['A','B','C','D','E','F','G','H','I'])\n",
        "  elif version == \"japanese\":\n",
        "    rangeVals = set([1,2,3,4])\n",
        "\n",
        "  for r in range(len(board[0])):\n",
        "    seen = set()\n",
        "    for c in range(len(board[0])):\n",
        "      if board[r][c] not in rangeVals or board[r][c] in seen:\n",
        "        return False\n",
        "      seen.add(board[r][c])\n",
        "  for c in range(len(board[0])):\n",
        "    seen = set()\n",
        "    for r in range(len(board[0])):\n",
        "      if board[r][c] not in rangeVals or board[r][c] in seen:\n",
        "        return False\n",
        "\n",
        "  if version==\"normal\" or version==\"letter\":\n",
        "    seen = set()\n",
        "    for r in range(3):\n",
        "      for c in range(3):\n",
        "        if board[r][c] not in rangeVals or board[r][c] in seen:\n",
        "          return False\n",
        "    seen = set()\n",
        "    for r in range(3):\n",
        "      for c in range(3,6):\n",
        "        if board[r][c] not in rangeVals or board[r][c] in seen:\n",
        "          return False\n",
        "    seen = set()\n",
        "    for r in range(3):\n",
        "      for c in range(6,9):\n",
        "        if board[r][c] not in rangeVals or board[r][c] in seen:\n",
        "          return False\n",
        "    seen = set()\n",
        "    for r in range(3,6):\n",
        "      for c in range(3):\n",
        "        if board[r][c] not in rangeVals or board[r][c] in seen:\n",
        "          return False\n",
        "    seen = set()\n",
        "    for r in range(3,6):\n",
        "      for c in range(3,6):\n",
        "        if board[r][c] not in rangeVals or board[r][c] in seen:\n",
        "          return False\n",
        "    seen = set()\n",
        "    for r in range(3,6):\n",
        "      for c in range(6,9):\n",
        "        if board[r][c] not in rangeVals or board[r][c] in seen:\n",
        "          return False\n",
        "    seen = set()\n",
        "    for r in range(6,9):\n",
        "      for c in range(3):\n",
        "        if board[r][c] not in rangeVals or board[r][c] in seen:\n",
        "          return False\n",
        "    seen = set()\n",
        "    for r in range(6,9):\n",
        "      for c in range(3,6):\n",
        "        if board[r][c] not in rangeVals or board[r][c] in seen:\n",
        "          return False\n",
        "    seen = set()\n",
        "    for r in range(6,9):\n",
        "      for c in range(6,9):\n",
        "        if board[r][c] not in rangeVals or board[r][c] in seen:\n",
        "          return False\n",
        "    return True\n",
        "  elif version==\"japanese\":\n",
        "    seen = set()\n",
        "    for r in range(2):\n",
        "      for c in range(2):\n",
        "        if board[r][c] not in rangeVals or board[r][c] in seen:\n",
        "          return False\n",
        "    seen = set()\n",
        "    for r in range(2):\n",
        "      for c in range(2,4):\n",
        "        if board[r][c] not in rangeVals or board[r][c] in seen:\n",
        "          return False\n",
        "    seen = set()\n",
        "    for r in range(2,4):\n",
        "      for c in range(2):\n",
        "        if board[r][c] not in rangeVals or board[r][c] in seen:\n",
        "          return False\n",
        "    seen = set()\n",
        "    for r in range(2,4):\n",
        "      for c in range(2,4):\n",
        "        if board[r][c] not in rangeVals or board[r][c] in seen:\n",
        "          return False\n",
        "    return True\n",
        "\n",
        "# Test Cases\n",
        "\n",
        "# Normal Sudoku\n",
        "b1 = [[8,1,6,5,7,9,2,4,3],[3,5,7,6,2,4,9,8,1],[4,9,2,1,3,8,7,6,5],[2,4,3,8,1,6,5,7,9],[9,8,1,3,5,7,6,2,4],[7,6,5,4,9,2,1,3,8],[5,7,9,2,4,3,8,1,6],[6,2,4,9,8,1,3,5,7],[1,3,8,7,6,5,4,9,2]]\n",
        "b2 = [[7,1,6,5,7,9,2,4,3],[3,5,7,6,2,4,9,8,1],[4,9,2,1,3,8,7,6,5],[2,4,3,8,1,6,5,7,9],[9,8,1,3,5,7,6,2,4],[7,6,5,4,9,2,1,3,8],[5,7,9,2,4,3,8,1,6],[6,2,4,9,8,1,3,5,7],[1,3,8,7,6,5,4,9,2]]\n",
        "\n",
        "print(testBoard(b1)) # True\n",
        "print(testBoard(b2)) # False\n",
        "\n",
        "# Letter Sudoku\n",
        "conversion = {1:'A',2:'B',3:'C',4:'D',5:'E',6:'F',7:'G',8:'H',9:'I',0:0}\n",
        "b3 = b1[::]\n",
        "for r in range(9):\n",
        "  for c in range(9):\n",
        "    b3[r][c] = conversion[b3[r][c]]\n",
        "b4 = b2[::]\n",
        "for r in range(9):\n",
        "  for c in range(9):\n",
        "    b4[r][c] = conversion[b4[r][c]]\n",
        "b4[3][7] = 'A'\n",
        "b4[2][8] = 'A'\n",
        "\n",
        "print(testBoard(b3, version=\"letter\")) # True\n",
        "print(testBoard(b4, version=\"letter\")) # False\n",
        "\n",
        "# Japanese Sudoku\n",
        "b5 = [[1,4,2,3],[3,2,4,1],[4,1,3,2],[2,3,1,4]]\n",
        "b6 = [[1,3,3,3],[3,1,4,1],[4,3,3,2],[2,3,1,4]]\n",
        "\n",
        "print(testBoard(b5, version=\"japanese\")) # True\n",
        "print(testBoard(b6, version=\"japanese\")) # False"
      ],
      "metadata": {
        "id": "8aHuOEtx_rJC",
        "colab": {
          "base_uri": "https://localhost:8080/"
        },
        "outputId": "ab908a41-56a6-4b9e-c62d-952d5ce8d50e"
      },
      "execution_count": 38,
      "outputs": [
        {
          "output_type": "stream",
          "name": "stdout",
          "text": [
            "True\n",
            "False\n",
            "True\n",
            "False\n",
            "True\n",
            "False\n"
          ]
        }
      ]
    },
    {
      "cell_type": "code",
      "source": [
        "def accuracyBoard(board, version=\"normal\"):\n",
        "  '''\n",
        "  board: a 2D array filled with potentially valid Sudoku values\n",
        "  version: the specific type of Sudoku to play [“normal”/“japanese”/“letter”]\n",
        "  \n",
        "  print what number of values are incorrect (or not provided yet) and what\n",
        "  percent of the total values on the board are correct (or incorrect)\n",
        "  '''\n",
        "  correct = 0\n",
        "  total = len(board) * len(board[0])\n",
        "  for r in range(len(board)):\n",
        "    for c in range(len(board[0])):\n",
        "      val = board[r][c]\n",
        "      board[r][c] = 0\n",
        "      if checkElement(board, val, r, c, version):\n",
        "        correct += 1\n",
        "      board[r][c] = val\n",
        "  percent = correct/total\n",
        "  print(\"Of the \" + str(total) + \" total values in the board, \" + str(correct) + \" values are correct.\" + \" This means \" + str(int(percent*100)) + \"% of the values are correct.\")\n",
        "\n",
        "# Test Cases\n",
        "\n",
        "# Normal Sudoku\n",
        "b1 = [[8,1,6,5,7,9,2,4,3],[3,5,7,6,2,4,9,8,1],[4,9,2,1,3,8,7,6,5],[2,4,3,8,1,6,5,7,9],[9,8,1,3,5,7,6,2,4],[7,6,5,4,9,2,1,3,8],[5,7,9,2,4,3,8,1,6],[6,2,4,9,8,1,3,5,7],[1,3,8,7,6,5,4,9,2]]\n",
        "b2 = [[7,1,6,5,7,9,2,4,3],[3,5,7,6,2,4,9,8,1],[4,9,2,1,3,8,7,6,5],[2,4,3,8,1,6,5,7,9],[9,8,1,3,5,7,6,2,4],[7,6,5,4,9,2,1,3,8],[5,7,9,2,4,3,8,1,6],[6,2,4,9,8,1,3,5,7],[1,3,8,7,6,5,4,9,2]]\n",
        "\n",
        "accuracyBoard(b1)\n",
        "accuracyBoard(b2)\n",
        "\n",
        "# Letter Sudoku\n",
        "conversion = {1:'A',2:'B',3:'C',4:'D',5:'E',6:'F',7:'G',8:'H',9:'I',0:0}\n",
        "b3 = b1[::]\n",
        "for r in range(9):\n",
        "  for c in range(9):\n",
        "    b3[r][c] = conversion[b3[r][c]]\n",
        "b4 = b2[::]\n",
        "for r in range(9):\n",
        "  for c in range(9):\n",
        "    b4[r][c] = conversion[b4[r][c]]\n",
        "b4[3][7] = 'A'\n",
        "b4[2][8] = 'A'\n",
        "\n",
        "accuracyBoard(b3, version=\"letter\")\n",
        "accuracyBoard(b4, version=\"letter\")\n",
        "\n",
        "# Japanese Sudoku\n",
        "b5 = [[1,4,2,3],[3,2,4,1],[4,1,3,2],[2,3,1,4]]\n",
        "b6 = [[1,3,3,3],[3,1,4,1],[4,3,3,2],[2,3,1,4]]\n",
        "\n",
        "accuracyBoard(b5, version=\"japanese\")\n",
        "accuracyBoard(b6, version=\"japanese\")"
      ],
      "metadata": {
        "id": "qRNAar_p_xpA",
        "colab": {
          "base_uri": "https://localhost:8080/"
        },
        "outputId": "3658ce20-844d-4f80-ef90-fc33d071b6b8"
      },
      "execution_count": 39,
      "outputs": [
        {
          "output_type": "stream",
          "name": "stdout",
          "text": [
            "Of the 81 total values in the board, 81 values are correct. This means 100% of the values are correct.\n",
            "Of the 81 total values in the board, 77 values are correct. This means 95% of the values are correct.\n",
            "Of the 81 total values in the board, 81 values are correct. This means 100% of the values are correct.\n",
            "Of the 81 total values in the board, 70 values are correct. This means 86% of the values are correct.\n",
            "Of the 16 total values in the board, 16 values are correct. This means 100% of the values are correct.\n",
            "Of the 16 total values in the board, 6 values are correct. This means 37% of the values are correct.\n"
          ]
        }
      ]
    },
    {
      "cell_type": "code",
      "source": [
        "import matplotlib.pyplot as plt\n",
        "from matplotlib import colors\n",
        "import numpy as np\n",
        "\n",
        "def viewAccuracyPlot(board, version=\"normal\"):\n",
        "  '''\n",
        "  board: a 2D array filled with potentially valid Sudoku values\n",
        "  version: the specific type of Sudoku to play [“normal”/“japanese”/“letter”]\n",
        "\n",
        "  display a plot of the correct (green) & incorrect (red) user values\n",
        "  '''\n",
        "  accuracy = createEmptyBoard(version)\n",
        "  for r in range(len(board)):\n",
        "    for c in range(len(board[0])):\n",
        "      val = board[r][c]\n",
        "      board[r][c] = 0\n",
        "      if checkElement(board, val, r, c, version):\n",
        "        accuracy[r][c] = 1\n",
        "      board[r][c] = val\n",
        "\n",
        "  # The below code is based on the following source: https://stackoverflow.com/questions/43971138/python-plotting-colored-grid-based-on-values#43971236\n",
        "  cmap = colors.ListedColormap(['red', 'green'])\n",
        "  bounds = [-1,0.5,2]\n",
        "  norm = colors.BoundaryNorm(bounds, cmap.N)\n",
        "\n",
        "  fig, ax = plt.subplots()\n",
        "  ax.imshow(accuracy, cmap=cmap, norm=norm)\n",
        "\n",
        "  ax.grid(which='major', axis='both', linestyle='-', color='k', linewidth=2)\n",
        "  if version == \"normal\" or version == \"letter\":\n",
        "    ax.set_xticks(np.arange(0.5, 9.5, 1))\n",
        "    ax.set_yticks(np.arange(0.5, 9.5, 1))\n",
        "  elif version == \"japanese\":\n",
        "    ax.set_xticks(np.arange(0.5, 4.5, 1))\n",
        "    ax.set_yticks(np.arange(0.5, 4.5, 1))\n",
        "  plt.show()\n",
        "\n",
        "# Test Cases\n",
        "\n",
        "# Normal Sudoku\n",
        "b1 = [[8,1,6,5,7,9,2,4,3],[3,5,7,6,2,4,9,8,1],[4,9,2,1,3,8,7,6,5],[2,4,3,8,1,6,5,7,9],[9,8,1,3,5,7,6,2,4],[7,6,5,4,9,2,1,3,8],[5,7,9,2,4,3,8,1,6],[6,2,4,9,8,1,3,5,7],[1,3,8,7,6,5,4,9,2]]\n",
        "b2 = [[7,1,6,5,7,9,2,4,3],[3,5,7,6,2,4,9,8,1],[4,9,2,1,3,8,7,6,5],[2,4,3,8,1,6,5,7,9],[9,8,1,3,5,7,6,2,4],[7,6,5,4,9,2,1,3,8],[5,7,9,2,4,3,8,1,6],[6,2,4,9,8,1,3,5,7],[1,3,8,7,6,5,4,9,2]]\n",
        "\n",
        "viewAccuracyPlot(b1)\n",
        "viewAccuracyPlot(b2)\n",
        "\n",
        "# Letter Sudoku\n",
        "conversion = {1:'A',2:'B',3:'C',4:'D',5:'E',6:'F',7:'G',8:'H',9:'I',0:0}\n",
        "b3 = b1[::]\n",
        "for r in range(9):\n",
        "  for c in range(9):\n",
        "    b3[r][c] = conversion[b3[r][c]]\n",
        "b4 = b2[::]\n",
        "for r in range(9):\n",
        "  for c in range(9):\n",
        "    b4[r][c] = conversion[b4[r][c]]\n",
        "b4[3][7] = 'A'\n",
        "b4[2][8] = 'A'\n",
        "\n",
        "viewAccuracyPlot(b3, version=\"letter\")\n",
        "viewAccuracyPlot(b4, version=\"letter\")\n",
        "\n",
        "# Japanese Sudoku\n",
        "b5 = [[1,4,2,3],[3,2,4,1],[4,1,3,2],[2,3,1,4]]\n",
        "b6 = [[1,3,3,3],[3,1,4,1],[4,3,3,2],[2,3,1,4]]\n",
        "\n",
        "viewAccuracyPlot(b5, version=\"japanese\")\n",
        "viewAccuracyPlot(b6, version=\"japanese\")"
      ],
      "metadata": {
        "id": "DsQ40f3q_3u0",
        "colab": {
          "base_uri": "https://localhost:8080/",
          "height": 1000
        },
        "outputId": "45f36b37-d637-4ca1-daa7-ef4da36e1a93"
      },
      "execution_count": 40,
      "outputs": [
        {
          "output_type": "display_data",
          "data": {
            "text/plain": [
              "<Figure size 432x288 with 1 Axes>"
            ],
            "image/png": "[encoded data removed]"
          },
          "metadata": {
            "needs_background": "light"
          }
        },
        {
          "output_type": "display_data",
          "data": {
            "text/plain": [
              "<Figure size 432x288 with 1 Axes>"
            ],
            "image/png": "[encoded data removed]"
          },
          "metadata": {
            "needs_background": "light"
          }
        },
        {
          "output_type": "display_data",
          "data": {
            "text/plain": [
              "<Figure size 432x288 with 1 Axes>"
            ],
            "image/png": "[encoded data removed]"
          },
          "metadata": {
            "needs_background": "light"
          }
        },
        {
          "output_type": "display_data",
          "data": {
            "text/plain": [
              "<Figure size 432x288 with 1 Axes>"
            ],
            "image/png": "[encoded data removed]"
          },
          "metadata": {
            "needs_background": "light"
          }
        },
        {
          "output_type": "display_data",
          "data": {
            "text/plain": [
              "<Figure size 432x288 with 1 Axes>"
            ],
            "image/png": "[encoded data removed]"
          },
          "metadata": {
            "needs_background": "light"
          }
        },
        {
          "output_type": "display_data",
          "data": {
            "text/plain": [
              "<Figure size 432x288 with 1 Axes>"
            ],
            "image/png": "[encoded data removed]"
          },
          "metadata": {
            "needs_background": "light"
          }
        }
      ]
    }
  ]
}